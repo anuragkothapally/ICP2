{
  "cells": [
    {
      "cell_type": "code",
      "execution_count": 6,
      "metadata": {
        "colab": {
          "base_uri": "https://localhost:8080/"
        },
        "id": "avY6l0XCGfxm",
        "outputId": "580ef4f7-1a66-45c8-f587-d9fb5f8de02c"
      },
      "outputs": [
        {
          "name": "stdout",
          "output_type": "stream",
          "text": [
            "* \n",
            "* * \n",
            "* * * \n",
            "* * * * \n",
            "* * * * * \n",
            "* * * * \n",
            "* * * \n",
            "* * \n",
            "* \n"
          ]
        }
      ],
      "source": [
        "rows = 5\n",
        "\n",
        "# Printing a simple triangle pattern\n",
        "for row in range(1, rows + 1):\n",
        "    print(\"* \" * row)\n",
        "\n",
        "# Printing a reverse triangle pattern\n",
        "for row in range(rows - 1, 0, -1):\n",
        "    print(\"* \" * row)"
      ]
    },
    {
      "cell_type": "code",
      "execution_count": 7,
      "metadata": {
        "colab": {
          "base_uri": "https://localhost:8080/"
        },
        "id": "mqWbXVnuHKX5",
        "outputId": "bb5b29e4-27a9-4770-f904-23cc63c90027"
      },
      "outputs": [
        {
          "name": "stdout",
          "output_type": "stream",
          "text": [
            "20\n",
            "40\n",
            "60\n",
            "80\n",
            "100\n"
          ]
        }
      ],
      "source": [
        "numbers = [10, 20, 30, 40, 50, 60, 70, 80, 90, 100]\n",
        "\n",
        "# Loop through the list and print elements at odd indexes\n",
        "for index in range(1, len(numbers), 2):\n",
        "    print(numbers[index])"
      ]
    },
    {
      "cell_type": "code",
      "execution_count": 8,
      "metadata": {
        "colab": {
          "base_uri": "https://localhost:8080/"
        },
        "id": "Ywojq7w3HauA",
        "outputId": "d505d3b5-d45d-410a-e5d7-9e43b395566b"
      },
      "outputs": [
        {
          "name": "stdout",
          "output_type": "stream",
          "text": [
            "[23, 'Python', 23.98]\n",
            "[<class 'int'>, <class 'str'>, <class 'float'>]\n"
          ]
        }
      ],
      "source": [
        "items = [23, 'Python', 23.98]\n",
        "types_list = []\n",
        "\n",
        "# Iterate through each item in the list and append its type to types_list\n",
        "for item in items:\n",
        "    types_list.append(type(item))\n",
        "\n",
        "# Print the original list and the list of types\n",
        "print(\"Original List:\", items)\n",
        "print(\"Types List:\", types_list)\n"
      ]
    },
    {
      "cell_type": "code",
      "execution_count": 9,
      "metadata": {
        "colab": {
          "base_uri": "https://localhost:8080/"
        },
        "id": "MqvsWY2XHxZv",
        "outputId": "7957795a-88f4-45c0-ddf0-6d7b0d466fbc"
      },
      "outputs": [
        {
          "name": "stdout",
          "output_type": "stream",
          "text": [
            "Sample List: [1, 2, 3, 3, 3, 3, 4, 5]\n",
            "Unique List: [1, 2, 3, 4, 5]\n"
          ]
        }
      ],
      "source": [
        "def get_unique_elements(input_list):\n",
        "    # Convert list to set to remove duplicates, then convert back to list\n",
        "    unique_elements = list(set(input_list))\n",
        "    return unique_elements\n",
        "\n",
        "# Sample list\n",
        "sample_list = [1, 2, 3, 3, 3, 3, 4, 5]\n",
        "\n",
        "# Call the function and print the result\n",
        "print(\"Original List:\", sample_list)\n",
        "print(\"Unique List:\", get_unique_elements(sample_list))\n"
      ]
    },
    {
      "cell_type": "code",
      "execution_count": 1,
      "metadata": {
        "colab": {
          "base_uri": "https://localhost:8080/"
        },
        "id": "kzhvshtyIDxd",
        "outputId": "615bcd3c-087d-4c13-d4d0-9090bc4f1756"
      },
      "outputs": [
        {
          "name": "stdout",
          "output_type": "stream",
          "text": [
            "No. of Upper-case characters: 3\n",
            "No. of Lower-case Characters: 12\n"
          ]
        }
      ],
      "source": [
        "def count_upper_lower(string):\n",
        "    # Initialize counters\n",
        "    upper_count = 0\n",
        "    lower_count = 0\n",
        "\n",
        "    # Iterate through each character in the string\n",
        "    for char in string:\n",
        "        # Check if the character is uppercase\n",
        "        if char.isupper():\n",
        "            upper_count += 1\n",
        "        # Check if the character is lowercase\n",
        "        elif char.islower():\n",
        "            lower_count += 1\n",
        "\n",
        "    # Return the counts\n",
        "    return upper_count, lower_count\n",
        "\n",
        "# Input string\n",
        "input_string = 'The quick Brow Fox'\n",
        "\n",
        "# Call the function\n",
        "upper_count, lower_count = count_upper_lower(input_string)\n",
        "\n",
        "# Print the results\n",
        "print(\"No. of Upper-case characters:\", upper_count)\n",
        "print(\"No. of Lower-case Characters:\", lower_count)\n"
      ]
    }
  ],
  "metadata": {
    "colab": {
      "provenance": []
    },
    "kernelspec": {
      "display_name": "Python 3",
      "name": "python3"
    },
    "language_info": {
      "codemirror_mode": {
        "name": "ipython",
        "version": 3
      },
      "file_extension": ".py",
      "mimetype": "text/x-python",
      "name": "python",
      "nbconvert_exporter": "python",
      "pygments_lexer": "ipython3",
      "version": "3.12.3"
    }
  },
  "nbformat": 4,
  "nbformat_minor": 0
}
